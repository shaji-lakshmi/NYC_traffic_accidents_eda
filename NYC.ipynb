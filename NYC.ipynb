{
 "cells": [
  {
   "cell_type": "code",
   "execution_count": 1,
   "id": "fdc4699f-141e-4c6f-9d26-5d09b8769e46",
   "metadata": {},
   "outputs": [],
   "source": [
    "import pandas as pd\n",
    "import numpy as np\n",
    "import matplotlib.pyplot as plt"
   ]
  },
  {
   "cell_type": "code",
   "execution_count": 2,
   "id": "aa08d593-ab06-4ede-92d6-bf8d5cb68c74",
   "metadata": {},
   "outputs": [
    {
     "data": {
      "text/html": [
       "<div>\n",
       "<style scoped>\n",
       "    .dataframe tbody tr th:only-of-type {\n",
       "        vertical-align: middle;\n",
       "    }\n",
       "\n",
       "    .dataframe tbody tr th {\n",
       "        vertical-align: top;\n",
       "    }\n",
       "\n",
       "    .dataframe thead th {\n",
       "        text-align: right;\n",
       "    }\n",
       "</style>\n",
       "<table border=\"1\" class=\"dataframe\">\n",
       "  <thead>\n",
       "    <tr style=\"text-align: right;\">\n",
       "      <th></th>\n",
       "      <th>CRASH DATE</th>\n",
       "      <th>CRASH TIME</th>\n",
       "      <th>BOROUGH</th>\n",
       "      <th>ZIP CODE</th>\n",
       "      <th>LATITUDE</th>\n",
       "      <th>LONGITUDE</th>\n",
       "      <th>LOCATION</th>\n",
       "      <th>ON STREET NAME</th>\n",
       "      <th>CROSS STREET NAME</th>\n",
       "      <th>OFF STREET NAME</th>\n",
       "      <th>...</th>\n",
       "      <th>CONTRIBUTING FACTOR VEHICLE 2</th>\n",
       "      <th>CONTRIBUTING FACTOR VEHICLE 3</th>\n",
       "      <th>CONTRIBUTING FACTOR VEHICLE 4</th>\n",
       "      <th>CONTRIBUTING FACTOR VEHICLE 5</th>\n",
       "      <th>COLLISION_ID</th>\n",
       "      <th>VEHICLE TYPE CODE 1</th>\n",
       "      <th>VEHICLE TYPE CODE 2</th>\n",
       "      <th>VEHICLE TYPE CODE 3</th>\n",
       "      <th>VEHICLE TYPE CODE 4</th>\n",
       "      <th>VEHICLE TYPE CODE 5</th>\n",
       "    </tr>\n",
       "  </thead>\n",
       "  <tbody>\n",
       "    <tr>\n",
       "      <th>0</th>\n",
       "      <td>2020-08-29</td>\n",
       "      <td>15:40:00</td>\n",
       "      <td>BRONX</td>\n",
       "      <td>10466.0</td>\n",
       "      <td>40.89210</td>\n",
       "      <td>-73.833760</td>\n",
       "      <td>POINT (-73.83376 40.8921)</td>\n",
       "      <td>PRATT AVENUE</td>\n",
       "      <td>STRANG AVENUE</td>\n",
       "      <td>NaN</td>\n",
       "      <td>...</td>\n",
       "      <td>Unspecified</td>\n",
       "      <td>NaN</td>\n",
       "      <td>NaN</td>\n",
       "      <td>NaN</td>\n",
       "      <td>4342908</td>\n",
       "      <td>Sedan</td>\n",
       "      <td>Station Wagon/Sport Utility Vehicle</td>\n",
       "      <td>NaN</td>\n",
       "      <td>NaN</td>\n",
       "      <td>NaN</td>\n",
       "    </tr>\n",
       "    <tr>\n",
       "      <th>1</th>\n",
       "      <td>2020-08-29</td>\n",
       "      <td>21:00:00</td>\n",
       "      <td>BROOKLYN</td>\n",
       "      <td>11221.0</td>\n",
       "      <td>40.69050</td>\n",
       "      <td>-73.919914</td>\n",
       "      <td>POINT (-73.919914 40.6905)</td>\n",
       "      <td>BUSHWICK AVENUE</td>\n",
       "      <td>PALMETTO STREET</td>\n",
       "      <td>NaN</td>\n",
       "      <td>...</td>\n",
       "      <td>Unspecified</td>\n",
       "      <td>NaN</td>\n",
       "      <td>NaN</td>\n",
       "      <td>NaN</td>\n",
       "      <td>4343555</td>\n",
       "      <td>Sedan</td>\n",
       "      <td>Sedan</td>\n",
       "      <td>NaN</td>\n",
       "      <td>NaN</td>\n",
       "      <td>NaN</td>\n",
       "    </tr>\n",
       "    <tr>\n",
       "      <th>2</th>\n",
       "      <td>2020-08-29</td>\n",
       "      <td>18:20:00</td>\n",
       "      <td>NaN</td>\n",
       "      <td>NaN</td>\n",
       "      <td>40.81650</td>\n",
       "      <td>-73.946556</td>\n",
       "      <td>POINT (-73.946556 40.8165)</td>\n",
       "      <td>8 AVENUE</td>\n",
       "      <td>NaN</td>\n",
       "      <td>NaN</td>\n",
       "      <td>...</td>\n",
       "      <td>NaN</td>\n",
       "      <td>NaN</td>\n",
       "      <td>NaN</td>\n",
       "      <td>NaN</td>\n",
       "      <td>4343142</td>\n",
       "      <td>Station Wagon/Sport Utility Vehicle</td>\n",
       "      <td>NaN</td>\n",
       "      <td>NaN</td>\n",
       "      <td>NaN</td>\n",
       "      <td>NaN</td>\n",
       "    </tr>\n",
       "    <tr>\n",
       "      <th>3</th>\n",
       "      <td>2020-08-29</td>\n",
       "      <td>00:00:00</td>\n",
       "      <td>BRONX</td>\n",
       "      <td>10459.0</td>\n",
       "      <td>40.82472</td>\n",
       "      <td>-73.892960</td>\n",
       "      <td>POINT (-73.89296 40.82472)</td>\n",
       "      <td>NaN</td>\n",
       "      <td>NaN</td>\n",
       "      <td>1047 SIMPSON STREET</td>\n",
       "      <td>...</td>\n",
       "      <td>Unspecified</td>\n",
       "      <td>Unspecified</td>\n",
       "      <td>Unspecified</td>\n",
       "      <td>NaN</td>\n",
       "      <td>4343588</td>\n",
       "      <td>Station Wagon/Sport Utility Vehicle</td>\n",
       "      <td>Station Wagon/Sport Utility Vehicle</td>\n",
       "      <td>Sedan</td>\n",
       "      <td>Motorcycle</td>\n",
       "      <td>NaN</td>\n",
       "    </tr>\n",
       "    <tr>\n",
       "      <th>4</th>\n",
       "      <td>2020-08-29</td>\n",
       "      <td>17:10:00</td>\n",
       "      <td>BROOKLYN</td>\n",
       "      <td>11203.0</td>\n",
       "      <td>40.64989</td>\n",
       "      <td>-73.933890</td>\n",
       "      <td>POINT (-73.93389 40.64989)</td>\n",
       "      <td>NaN</td>\n",
       "      <td>NaN</td>\n",
       "      <td>4609 SNYDER AVENUE</td>\n",
       "      <td>...</td>\n",
       "      <td>Unspecified</td>\n",
       "      <td>NaN</td>\n",
       "      <td>NaN</td>\n",
       "      <td>NaN</td>\n",
       "      <td>4342953</td>\n",
       "      <td>Sedan</td>\n",
       "      <td>Sedan</td>\n",
       "      <td>NaN</td>\n",
       "      <td>NaN</td>\n",
       "      <td>NaN</td>\n",
       "    </tr>\n",
       "  </tbody>\n",
       "</table>\n",
       "<p>5 rows × 29 columns</p>\n",
       "</div>"
      ],
      "text/plain": [
       "   CRASH DATE CRASH TIME   BOROUGH  ZIP CODE  LATITUDE  LONGITUDE  \\\n",
       "0  2020-08-29   15:40:00     BRONX   10466.0  40.89210 -73.833760   \n",
       "1  2020-08-29   21:00:00  BROOKLYN   11221.0  40.69050 -73.919914   \n",
       "2  2020-08-29   18:20:00       NaN       NaN  40.81650 -73.946556   \n",
       "3  2020-08-29   00:00:00     BRONX   10459.0  40.82472 -73.892960   \n",
       "4  2020-08-29   17:10:00  BROOKLYN   11203.0  40.64989 -73.933890   \n",
       "\n",
       "                     LOCATION   ON STREET NAME CROSS STREET NAME  \\\n",
       "0   POINT (-73.83376 40.8921)     PRATT AVENUE     STRANG AVENUE   \n",
       "1  POINT (-73.919914 40.6905)  BUSHWICK AVENUE   PALMETTO STREET   \n",
       "2  POINT (-73.946556 40.8165)         8 AVENUE               NaN   \n",
       "3  POINT (-73.89296 40.82472)              NaN               NaN   \n",
       "4  POINT (-73.93389 40.64989)              NaN               NaN   \n",
       "\n",
       "       OFF STREET NAME  ...  CONTRIBUTING FACTOR VEHICLE 2  \\\n",
       "0                  NaN  ...                    Unspecified   \n",
       "1                  NaN  ...                    Unspecified   \n",
       "2                  NaN  ...                            NaN   \n",
       "3  1047 SIMPSON STREET  ...                    Unspecified   \n",
       "4   4609 SNYDER AVENUE  ...                    Unspecified   \n",
       "\n",
       "   CONTRIBUTING FACTOR VEHICLE 3  CONTRIBUTING FACTOR VEHICLE 4  \\\n",
       "0                            NaN                            NaN   \n",
       "1                            NaN                            NaN   \n",
       "2                            NaN                            NaN   \n",
       "3                    Unspecified                    Unspecified   \n",
       "4                            NaN                            NaN   \n",
       "\n",
       "   CONTRIBUTING FACTOR VEHICLE 5  COLLISION_ID  \\\n",
       "0                            NaN       4342908   \n",
       "1                            NaN       4343555   \n",
       "2                            NaN       4343142   \n",
       "3                            NaN       4343588   \n",
       "4                            NaN       4342953   \n",
       "\n",
       "                   VEHICLE TYPE CODE 1                  VEHICLE TYPE CODE 2  \\\n",
       "0                                Sedan  Station Wagon/Sport Utility Vehicle   \n",
       "1                                Sedan                                Sedan   \n",
       "2  Station Wagon/Sport Utility Vehicle                                  NaN   \n",
       "3  Station Wagon/Sport Utility Vehicle  Station Wagon/Sport Utility Vehicle   \n",
       "4                                Sedan                                Sedan   \n",
       "\n",
       "   VEHICLE TYPE CODE 3 VEHICLE TYPE CODE 4 VEHICLE TYPE CODE 5  \n",
       "0                  NaN                 NaN                 NaN  \n",
       "1                  NaN                 NaN                 NaN  \n",
       "2                  NaN                 NaN                 NaN  \n",
       "3                Sedan          Motorcycle                 NaN  \n",
       "4                  NaN                 NaN                 NaN  \n",
       "\n",
       "[5 rows x 29 columns]"
      ]
     },
     "execution_count": 2,
     "metadata": {},
     "output_type": "execute_result"
    }
   ],
   "source": [
    "NYCrash_df = pd.read_csv(\"Resources/NYC_accidents_2020.csv\")\n",
    "NYCrash_df.head()"
   ]
  },
  {
   "cell_type": "code",
   "execution_count": 3,
   "id": "013756f6-32a4-41af-af6e-dd872a798bca",
   "metadata": {},
   "outputs": [
    {
     "data": {
      "text/plain": [
       "Index(['CRASH DATE', 'CRASH TIME', 'BOROUGH', 'ZIP CODE', 'LATITUDE',\n",
       "       'LONGITUDE', 'LOCATION', 'ON STREET NAME', 'CROSS STREET NAME',\n",
       "       'OFF STREET NAME', 'NUMBER OF PERSONS INJURED',\n",
       "       'NUMBER OF PERSONS KILLED', 'NUMBER OF PEDESTRIANS INJURED',\n",
       "       'NUMBER OF PEDESTRIANS KILLED', 'NUMBER OF CYCLIST INJURED',\n",
       "       'NUMBER OF CYCLIST KILLED', 'NUMBER OF MOTORIST INJURED',\n",
       "       'NUMBER OF MOTORIST KILLED', 'CONTRIBUTING FACTOR VEHICLE 1',\n",
       "       'CONTRIBUTING FACTOR VEHICLE 2', 'CONTRIBUTING FACTOR VEHICLE 3',\n",
       "       'CONTRIBUTING FACTOR VEHICLE 4', 'CONTRIBUTING FACTOR VEHICLE 5',\n",
       "       'COLLISION_ID', 'VEHICLE TYPE CODE 1', 'VEHICLE TYPE CODE 2',\n",
       "       'VEHICLE TYPE CODE 3', 'VEHICLE TYPE CODE 4', 'VEHICLE TYPE CODE 5'],\n",
       "      dtype='object')"
      ]
     },
     "execution_count": 3,
     "metadata": {},
     "output_type": "execute_result"
    }
   ],
   "source": [
    "NYCrash_df.columns"
   ]
  },
  {
   "cell_type": "code",
   "execution_count": 4,
   "id": "778025b0-a785-4c20-8e5c-96866b187f47",
   "metadata": {},
   "outputs": [
    {
     "data": {
      "text/plain": [
       "Index(['ZIP CODE', 'LATITUDE', 'LONGITUDE', 'NUMBER OF PERSONS INJURED',\n",
       "       'NUMBER OF PERSONS KILLED', 'NUMBER OF PEDESTRIANS INJURED',\n",
       "       'NUMBER OF PEDESTRIANS KILLED', 'NUMBER OF CYCLIST INJURED',\n",
       "       'NUMBER OF CYCLIST KILLED', 'NUMBER OF MOTORIST INJURED',\n",
       "       'NUMBER OF MOTORIST KILLED', 'COLLISION_ID'],\n",
       "      dtype='object')"
      ]
     },
     "execution_count": 4,
     "metadata": {},
     "output_type": "execute_result"
    }
   ],
   "source": [
    "summary_df = NYCrash_df.describe()\n",
    "summary_df.columns"
   ]
  },
  {
   "cell_type": "code",
   "execution_count": 5,
   "id": "4e043653-15bb-47e5-8004-d8c0ff5c7973",
   "metadata": {},
   "outputs": [
    {
     "data": {
      "text/html": [
       "<div>\n",
       "<style scoped>\n",
       "    .dataframe tbody tr th:only-of-type {\n",
       "        vertical-align: middle;\n",
       "    }\n",
       "\n",
       "    .dataframe tbody tr th {\n",
       "        vertical-align: top;\n",
       "    }\n",
       "\n",
       "    .dataframe thead th {\n",
       "        text-align: right;\n",
       "    }\n",
       "</style>\n",
       "<table border=\"1\" class=\"dataframe\">\n",
       "  <thead>\n",
       "    <tr style=\"text-align: right;\">\n",
       "      <th></th>\n",
       "      <th>NUMBER OF PERSONS INJURED</th>\n",
       "      <th>NUMBER OF PERSONS KILLED</th>\n",
       "      <th>NUMBER OF PEDESTRIANS INJURED</th>\n",
       "      <th>NUMBER OF PEDESTRIANS KILLED</th>\n",
       "      <th>NUMBER OF CYCLIST INJURED</th>\n",
       "      <th>NUMBER OF CYCLIST KILLED</th>\n",
       "      <th>NUMBER OF MOTORIST INJURED</th>\n",
       "      <th>NUMBER OF MOTORIST KILLED</th>\n",
       "    </tr>\n",
       "  </thead>\n",
       "  <tbody>\n",
       "    <tr>\n",
       "      <th>count</th>\n",
       "      <td>74881.000000</td>\n",
       "      <td>74881.000000</td>\n",
       "      <td>74881.000000</td>\n",
       "      <td>74881.000000</td>\n",
       "      <td>74881.000000</td>\n",
       "      <td>74881.000000</td>\n",
       "      <td>74881.000000</td>\n",
       "      <td>74881.000000</td>\n",
       "    </tr>\n",
       "    <tr>\n",
       "      <th>mean</th>\n",
       "      <td>0.366555</td>\n",
       "      <td>0.001923</td>\n",
       "      <td>0.054740</td>\n",
       "      <td>0.000748</td>\n",
       "      <td>0.043709</td>\n",
       "      <td>0.000120</td>\n",
       "      <td>0.268105</td>\n",
       "      <td>0.001055</td>\n",
       "    </tr>\n",
       "    <tr>\n",
       "      <th>std</th>\n",
       "      <td>0.726178</td>\n",
       "      <td>0.047609</td>\n",
       "      <td>0.237582</td>\n",
       "      <td>0.027337</td>\n",
       "      <td>0.209737</td>\n",
       "      <td>0.010963</td>\n",
       "      <td>0.691423</td>\n",
       "      <td>0.037073</td>\n",
       "    </tr>\n",
       "    <tr>\n",
       "      <th>min</th>\n",
       "      <td>0.000000</td>\n",
       "      <td>0.000000</td>\n",
       "      <td>0.000000</td>\n",
       "      <td>0.000000</td>\n",
       "      <td>0.000000</td>\n",
       "      <td>0.000000</td>\n",
       "      <td>0.000000</td>\n",
       "      <td>0.000000</td>\n",
       "    </tr>\n",
       "    <tr>\n",
       "      <th>25%</th>\n",
       "      <td>0.000000</td>\n",
       "      <td>0.000000</td>\n",
       "      <td>0.000000</td>\n",
       "      <td>0.000000</td>\n",
       "      <td>0.000000</td>\n",
       "      <td>0.000000</td>\n",
       "      <td>0.000000</td>\n",
       "      <td>0.000000</td>\n",
       "    </tr>\n",
       "    <tr>\n",
       "      <th>50%</th>\n",
       "      <td>0.000000</td>\n",
       "      <td>0.000000</td>\n",
       "      <td>0.000000</td>\n",
       "      <td>0.000000</td>\n",
       "      <td>0.000000</td>\n",
       "      <td>0.000000</td>\n",
       "      <td>0.000000</td>\n",
       "      <td>0.000000</td>\n",
       "    </tr>\n",
       "    <tr>\n",
       "      <th>75%</th>\n",
       "      <td>1.000000</td>\n",
       "      <td>0.000000</td>\n",
       "      <td>0.000000</td>\n",
       "      <td>0.000000</td>\n",
       "      <td>0.000000</td>\n",
       "      <td>0.000000</td>\n",
       "      <td>0.000000</td>\n",
       "      <td>0.000000</td>\n",
       "    </tr>\n",
       "    <tr>\n",
       "      <th>max</th>\n",
       "      <td>15.000000</td>\n",
       "      <td>4.000000</td>\n",
       "      <td>6.000000</td>\n",
       "      <td>1.000000</td>\n",
       "      <td>3.000000</td>\n",
       "      <td>1.000000</td>\n",
       "      <td>15.000000</td>\n",
       "      <td>4.000000</td>\n",
       "    </tr>\n",
       "  </tbody>\n",
       "</table>\n",
       "</div>"
      ],
      "text/plain": [
       "       NUMBER OF PERSONS INJURED  NUMBER OF PERSONS KILLED  \\\n",
       "count               74881.000000              74881.000000   \n",
       "mean                    0.366555                  0.001923   \n",
       "std                     0.726178                  0.047609   \n",
       "min                     0.000000                  0.000000   \n",
       "25%                     0.000000                  0.000000   \n",
       "50%                     0.000000                  0.000000   \n",
       "75%                     1.000000                  0.000000   \n",
       "max                    15.000000                  4.000000   \n",
       "\n",
       "       NUMBER OF PEDESTRIANS INJURED  NUMBER OF PEDESTRIANS KILLED  \\\n",
       "count                   74881.000000                  74881.000000   \n",
       "mean                        0.054740                      0.000748   \n",
       "std                         0.237582                      0.027337   \n",
       "min                         0.000000                      0.000000   \n",
       "25%                         0.000000                      0.000000   \n",
       "50%                         0.000000                      0.000000   \n",
       "75%                         0.000000                      0.000000   \n",
       "max                         6.000000                      1.000000   \n",
       "\n",
       "       NUMBER OF CYCLIST INJURED  NUMBER OF CYCLIST KILLED  \\\n",
       "count               74881.000000              74881.000000   \n",
       "mean                    0.043709                  0.000120   \n",
       "std                     0.209737                  0.010963   \n",
       "min                     0.000000                  0.000000   \n",
       "25%                     0.000000                  0.000000   \n",
       "50%                     0.000000                  0.000000   \n",
       "75%                     0.000000                  0.000000   \n",
       "max                     3.000000                  1.000000   \n",
       "\n",
       "       NUMBER OF MOTORIST INJURED  NUMBER OF MOTORIST KILLED  \n",
       "count                74881.000000               74881.000000  \n",
       "mean                     0.268105                   0.001055  \n",
       "std                      0.691423                   0.037073  \n",
       "min                      0.000000                   0.000000  \n",
       "25%                      0.000000                   0.000000  \n",
       "50%                      0.000000                   0.000000  \n",
       "75%                      0.000000                   0.000000  \n",
       "max                     15.000000                   4.000000  "
      ]
     },
     "execution_count": 5,
     "metadata": {},
     "output_type": "execute_result"
    }
   ],
   "source": [
    "summary_df = summary_df.drop(columns=['ZIP CODE', 'LATITUDE', 'LONGITUDE', 'COLLISION_ID'])\n",
    "summary_df"
   ]
  },
  {
   "cell_type": "markdown",
   "id": "5096ec05-eef7-48c0-af72-8156c83ace44",
   "metadata": {},
   "source": [
    "### Which Borough Has The Most Traffic Accidents?"
   ]
  },
  {
   "cell_type": "code",
   "execution_count": 35,
   "id": "ffbcc5f9-5dc8-48e8-8b4c-45094427ca86",
   "metadata": {},
   "outputs": [
    {
     "data": {
      "text/plain": [
       "BOROUGH\n",
       "BRONX             9417\n",
       "BROOKLYN         16907\n",
       "MANHATTAN         7353\n",
       "QUEENS           14017\n",
       "STATEN ISLAND     1446\n",
       "Name: BOROUGH, dtype: int64"
      ]
     },
     "execution_count": 35,
     "metadata": {},
     "output_type": "execute_result"
    }
   ],
   "source": [
    "borough = NYCrash_df.groupby('BOROUGH')\n",
    "borough['BOROUGH'].count()"
   ]
  },
  {
   "cell_type": "code",
   "execution_count": 55,
   "id": "0ad37ae3-ef1f-47ce-a899-1337b6597359",
   "metadata": {},
   "outputs": [
    {
     "data": {
      "image/png": "[encoded data removed]",
      "text/plain": [
       "<Figure size 432x288 with 1 Axes>"
      ]
     },
     "metadata": {
      "needs_background": "light"
     },
     "output_type": "display_data"
    }
   ],
   "source": [
    "group_names = ['Bronx','Brooklyn', 'Manhattan','Queens','Staten Island']\n",
    "plt.bar(group_names, borough['BOROUGH'].count(),color=(\"#1F1FFF\",\"#4949FF\",\"#7879FF\",\"#A3A3FF\", \"#BFBFFF\"))\n",
    "plt.title(\"Number of Crashes by Borough\")\n",
    "plt.xlabel(\"NY Boroughs\")\n",
    "plt.ylabel(\"Number of Crashes\")\n",
    "plt.savefig('Output/NY_CrashCountByBorough.png')\n",
    "plt.axhline(borough.size().mean(), ls=\"--\")\n",
    "plt.show()"
   ]
  },
  {
   "cell_type": "markdown",
   "id": "f3f54653-9809-43a9-bacd-ee94ddb21d49",
   "metadata": {},
   "source": [
    "### What Time Of The Year Was There The Most Amount of Crashes? "
   ]
  },
  {
   "cell_type": "code",
   "execution_count": 8,
   "id": "97e2973f-37b3-4ca0-95a1-a69a24fca06c",
   "metadata": {},
   "outputs": [],
   "source": [
    "NYCrash_df[\"CRASH DATE\"] = pd.to_datetime(NYCrash_df[\"CRASH DATE\"])\n",
    "NYCrash_df[\"MONTH\"] = NYCrash_df[\"CRASH DATE\"].dt.month"
   ]
  },
  {
   "cell_type": "code",
   "execution_count": 13,
   "id": "b8f99478-fee6-4a00-ba13-44c34fc97174",
   "metadata": {},
   "outputs": [
    {
     "data": {
      "text/plain": [
       "MONTH\n",
       "1    14287\n",
       "2    13684\n",
       "3    11057\n",
       "4     4116\n",
       "5     6149\n",
       "6     7616\n",
       "7     9225\n",
       "8     8747\n",
       "Name: MONTH, dtype: int64"
      ]
     },
     "execution_count": 13,
     "metadata": {},
     "output_type": "execute_result"
    }
   ],
   "source": [
    "monthly_crashStat = NYCrash_df.groupby(\"MONTH\")\n",
    "monthly_crashStat['MONTH'].count()"
   ]
  },
  {
   "cell_type": "code",
   "execution_count": 63,
   "id": "407e2caa-e4cd-4dfe-8062-0e91d03c01cb",
   "metadata": {},
   "outputs": [
    {
     "data": {
      "image/png": "[encoded data removed]",
      "text/plain": [
       "<Figure size 432x288 with 1 Axes>"
      ]
     },
     "metadata": {},
     "output_type": "display_data"
    }
   ],
   "source": [
    "month_labels = ['January', \"February\", \"March\", \"April\", \"May\",\"June\",\"July\",\"August\"]\n",
    "month_crashVals = monthly_crashStat['MONTH'].count()\n",
    "monthlyExplode = [.15,0,0,0,0,0,0,0]\n",
    "plt.pie(month_crashVals, labels= month_labels, shadow= True, colors=(\"#ff0000\", \"#ff4900\", \"#ff8b00\",\"#ff8b00\",\"#ffa600\",\"#ffc000\",\"#ffda00\",\"#fff200\"), explode=monthlyExplode)\n",
    "plt.title(\"Accidents In NYC Based On Month\")\n",
    "plt.savefig('Output/MonthlyCrashAnalysis.png')\n",
    "plt.show()"
   ]
  },
  {
   "cell_type": "markdown",
   "id": "3c551dc1-bfbc-41e0-b965-7ffc6dbc327f",
   "metadata": {},
   "source": [
    "### What Time Of The Day Are There Most Traffic Accidents? "
   ]
  },
  {
   "cell_type": "code",
   "execution_count": 39,
   "id": "77f274a0-bc95-4157-b5e7-aa1f9dfb48f9",
   "metadata": {},
   "outputs": [
    {
     "data": {
      "text/plain": [
       "HOUR\n",
       "0     2948\n",
       "1     1474\n",
       "2     1139\n",
       "3      989\n",
       "4      975\n",
       "5     1178\n",
       "6     1868\n",
       "7     2463\n",
       "8     3678\n",
       "9     3439\n",
       "10    3525\n",
       "11    3803\n",
       "12    4054\n",
       "13    4458\n",
       "14    5016\n",
       "15    4677\n",
       "16    5219\n",
       "17    4974\n",
       "18    4696\n",
       "19    3738\n",
       "20    3138\n",
       "21    2711\n",
       "22    2557\n",
       "23    2164\n",
       "Name: HOUR, dtype: int64"
      ]
     },
     "execution_count": 39,
     "metadata": {},
     "output_type": "execute_result"
    }
   ],
   "source": [
    "NYCrash_df[\"HOUR\"] = pd.to_datetime(NYCrash_df[\"CRASH TIME\"]).dt.hour\n",
    "hourly_crashStat = NYCrash_df.groupby(\"HOUR\")\n",
    "hourly_crashStat['HOUR'].count()"
   ]
  },
  {
   "cell_type": "code",
   "execution_count": 90,
   "id": "f5b72e80-44bd-4689-ad1a-798ae280dd31",
   "metadata": {},
   "outputs": [
    {
     "data": {
      "image/png": "[encoded data removed]",
      "text/plain": [
       "<Figure size 432x288 with 1 Axes>"
      ]
     },
     "metadata": {
      "needs_background": "light"
     },
     "output_type": "display_data"
    }
   ],
   "source": [
    "plt.plot(range(0,24), hourly_crashStat['HOUR'].count(), ls=\"--\", marker=\"D\", markerfacecolor=\"red\",color=\"black\")\n",
    "plt.axhline(hourly_crashStat.size().mean(), ls=\"--\", color=\"red\")\n",
    "plt.title(\"Accidents In NYC Based On Time Of Day\")\n",
    "plt.xlabel(\"Hour Of Day\")\n",
    "plt.ylabel(\"Number Of Crashes\")\n",
    "plt.annotate(xy=[5,hourly_crashStat['HOUR'].count().min()], text = \"--Lowest Crash Volume (4AM)\")\n",
    "plt.annotate(xy=[6,1200], text = hourly_crashStat['HOUR'].count().min())\n",
    "plt.annotate(xy=[16, hourly_crashStat['HOUR'].count().max()], text = \"  --Largest Crash Volume (4PM)\")\n",
    "plt.annotate(xy=[18, 4990], text = hourly_crashStat['HOUR'].count().max())\n",
    "plt.savefig('Output/NY_CrashCountByTime.png')\n",
    "plt.show()"
   ]
  },
  {
   "cell_type": "markdown",
   "id": "78c7c8f6-dc66-43d3-8f54-1583db9754c1",
   "metadata": {},
   "source": [
    "### Is It Dangerous To Bike In NY? "
   ]
  },
  {
   "cell_type": "code",
   "execution_count": 92,
   "id": "1252efe8-f6cf-44c9-a471-69208ba7b964",
   "metadata": {},
   "outputs": [
    {
     "data": {
      "text/plain": [
       "Index(['CRASH DATE', 'CRASH TIME', 'BOROUGH', 'ZIP CODE', 'LATITUDE',\n",
       "       'LONGITUDE', 'LOCATION', 'ON STREET NAME', 'CROSS STREET NAME',\n",
       "       'OFF STREET NAME', 'NUMBER OF PERSONS INJURED',\n",
       "       'NUMBER OF PERSONS KILLED', 'NUMBER OF PEDESTRIANS INJURED',\n",
       "       'NUMBER OF PEDESTRIANS KILLED', 'NUMBER OF CYCLIST INJURED',\n",
       "       'NUMBER OF CYCLIST KILLED', 'NUMBER OF MOTORIST INJURED',\n",
       "       'NUMBER OF MOTORIST KILLED', 'CONTRIBUTING FACTOR VEHICLE 1',\n",
       "       'CONTRIBUTING FACTOR VEHICLE 2', 'CONTRIBUTING FACTOR VEHICLE 3',\n",
       "       'CONTRIBUTING FACTOR VEHICLE 4', 'CONTRIBUTING FACTOR VEHICLE 5',\n",
       "       'COLLISION_ID', 'VEHICLE TYPE CODE 1', 'VEHICLE TYPE CODE 2',\n",
       "       'VEHICLE TYPE CODE 3', 'VEHICLE TYPE CODE 4', 'VEHICLE TYPE CODE 5',\n",
       "       'MONTH', 'HOUR'],\n",
       "      dtype='object')"
      ]
     },
     "execution_count": 92,
     "metadata": {},
     "output_type": "execute_result"
    }
   ],
   "source": [
    "NYCrash_df.columns"
   ]
  },
  {
   "cell_type": "code",
   "execution_count": null,
   "id": "f005a0c7-8e0e-473d-bde1-9a65fa5d6469",
   "metadata": {},
   "outputs": [],
   "source": []
  }
 ],
 "metadata": {
  "kernelspec": {
   "display_name": "Python 3",
   "language": "python",
   "name": "python3"
  },
  "language_info": {
   "codemirror_mode": {
    "name": "ipython",
    "version": 3
   },
   "file_extension": ".py",
   "mimetype": "text/x-python",
   "name": "python",
   "nbconvert_exporter": "python",
   "pygments_lexer": "ipython3",
   "version": "3.7.10"
  }
 },
 "nbformat": 4,
 "nbformat_minor": 5
}
